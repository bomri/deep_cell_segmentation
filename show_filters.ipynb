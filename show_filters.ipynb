{
 "cells": [
  {
   "cell_type": "code",
   "execution_count": 6,
   "metadata": {
    "collapsed": false
   },
   "outputs": [
    {
     "data": {
      "image/png": "[encoded data removed]",
      "text/plain": [
       "<matplotlib.figure.Figure at 0x7f063c1b7ed0>"
      ]
     },
     "metadata": {},
     "output_type": "display_data"
    },
    {
     "data": {
      "image/png": "[encoded data removed]",
      "text/plain": [
       "<matplotlib.figure.Figure at 0x7f063c299590>"
      ]
     },
     "metadata": {},
     "output_type": "display_data"
    },
    {
     "data": {
      "text/plain": [
       "0.052329719"
      ]
     },
     "execution_count": 6,
     "metadata": {},
     "output_type": "execute_result"
    }
   ],
   "source": [
    "import matplotlib.pyplot as plt\n",
    "%matplotlib inline\n",
    "import numpy as np\n",
    "wc99 = np.load('/tmp/omri/wc1_values99.npy')\n",
    "wc1 = np.load('/tmp/omri/wc1_values1.npy')\n",
    "plt.imshow(wc1[:,:,0,0], interpolation=\"none\");plt.show()\n",
    "plt.imshow(wc99[:,:,0,0], interpolation=\"none\");plt.show()\n",
    "np.abs(wc99[:,:,0,0] - wc1[:,:,0,0]).max()"
   ]
  },
  {
   "cell_type": "code",
   "execution_count": 8,
   "metadata": {
    "collapsed": false
   },
   "outputs": [
    {
     "data": {
      "text/plain": [
       "(array([[ 0.67621255, -0.39721748,  0.84694481,  0.97407359,  0.22682098],\n",
       "        [-1.35962856,  0.61758035, -0.95471156, -0.35565314, -0.91041166],\n",
       "        [ 1.53526175,  2.48268938,  1.65714788,  0.32555649, -0.31108698],\n",
       "        [ 0.09584506, -0.28072217,  1.78284121,  0.15725766,  2.37585139],\n",
       "        [-0.07946297,  0.61312497, -1.20192945,  1.28588128,  0.58762348]], dtype=float32),\n",
       " array([[ 0.69528186, -0.36146361,  0.89003199,  1.02196789,  0.27672985],\n",
       "        [-1.32597804,  0.66028398, -0.90430921, -0.30332342, -0.86023217],\n",
       "        [ 1.57978737,  2.53025007,  1.7089833 ,  0.37663731, -0.26016638],\n",
       "        [ 0.13600485, -0.23800692,  1.82865143,  0.20602906,  2.42701864],\n",
       "        [-0.04148454,  0.65057701, -1.16177845,  1.33306694,  0.63959676]], dtype=float32))"
      ]
     },
     "execution_count": 8,
     "metadata": {},
     "output_type": "execute_result"
    }
   ],
   "source": [
    "wc99[:,:,0,0],wc1[:,:,0,0]"
   ]
  },
  {
   "cell_type": "code",
   "execution_count": null,
   "metadata": {
    "collapsed": true
   },
   "outputs": [],
   "source": []
  }
 ],
 "metadata": {
  "anaconda-cloud": {},
  "kernelspec": {
   "display_name": "Python [conda root]",
   "language": "python",
   "name": "conda-root-py"
  },
  "language_info": {
   "codemirror_mode": {
    "name": "ipython",
    "version": 2
   },
   "file_extension": ".py",
   "mimetype": "text/x-python",
   "name": "python",
   "nbconvert_exporter": "python",
   "pygments_lexer": "ipython2",
   "version": "2.7.12"
  }
 },
 "nbformat": 4,
 "nbformat_minor": 1
}
